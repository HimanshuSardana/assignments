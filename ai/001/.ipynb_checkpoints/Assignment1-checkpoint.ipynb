{
 "cells": [
  {
   "cell_type": "code",
   "execution_count": 9,
   "id": "c86cc2ef-03c7-4b28-a287-aea984b8b4a7",
   "metadata": {},
   "outputs": [
    {
     "name": "stdout",
     "output_type": "stream",
     "text": [
      "[1, 3]\n",
      "2\n"
     ]
    }
   ],
   "source": [
    "a = []\n",
    "type(a)\n",
    "a.append(1)\n",
    "a.append(2)\n",
    "a.append(3)\n",
    "a.remove(2)\n",
    "print(a)\n",
    "print(len(a))"
   ]
  },
  {
   "cell_type": "code",
   "execution_count": 2,
   "id": "58726123-057c-4a5a-a43a-d3367803fb78",
   "metadata": {},
   "outputs": [
    {
     "data": {
      "text/plain": [
       "tuple"
      ]
     },
     "execution_count": 2,
     "metadata": {},
     "output_type": "execute_result"
    }
   ],
   "source": [
    "b = ()\n",
    "type(b)"
   ]
  },
  {
   "cell_type": "code",
   "execution_count": 3,
   "id": "78cda1ea-017c-49a3-8b4c-394c1c99bd11",
   "metadata": {},
   "outputs": [
    {
     "data": {
      "text/plain": [
       "dict"
      ]
     },
     "execution_count": 3,
     "metadata": {},
     "output_type": "execute_result"
    }
   ],
   "source": [
    "c = {}\n",
    "type(c)"
   ]
  },
  {
   "cell_type": "code",
   "execution_count": 10,
   "id": "188170f1-631a-47c8-81e1-48c62a54f7eb",
   "metadata": {},
   "outputs": [
    {
     "name": "stdout",
     "output_type": "stream",
     "text": [
      "['Joni', 'Rama', 'Meera', 'Jiya', 'Joojh']\n"
     ]
    }
   ],
   "source": [
    "stuNames = [\"Joni\", \"Rama\", \"Meera\", \"Jiya\", \"Joojh\"]\n",
    "print(stuNames)"
   ]
  },
  {
   "cell_type": "code",
   "execution_count": 11,
   "id": "9ad1c75b-f20c-4b1f-8990-2b50731b1462",
   "metadata": {},
   "outputs": [
    {
     "name": "stdout",
     "output_type": "stream",
     "text": [
      "['Joni', 'Jiya', 'Joojh']\n"
     ]
    }
   ],
   "source": [
    "del stuNames[1:3]\n",
    "print(stuNames)"
   ]
  },
  {
   "cell_type": "code",
   "execution_count": 12,
   "id": "eeaf96a7-fe39-444c-ad29-eb9619262041",
   "metadata": {},
   "outputs": [
    {
     "data": {
      "text/plain": [
       "['Joni', 'Jiya', 'Himanshu', 'Joojh']"
      ]
     },
     "execution_count": 12,
     "metadata": {},
     "output_type": "execute_result"
    }
   ],
   "source": [
    "stuNames.insert(2, \"Himanshu\")\n",
    "stuNames"
   ]
  },
  {
   "cell_type": "code",
   "execution_count": 15,
   "id": "ae152ee6-921e-49b1-8622-81867c880a9a",
   "metadata": {},
   "outputs": [
    {
     "name": "stdin",
     "output_type": "stream",
     "text": [
      "Enter the number of students:  2\n",
      "Enter name of Student:  H\n",
      "Enter name of Student:  S\n"
     ]
    },
    {
     "name": "stdout",
     "output_type": "stream",
     "text": [
      "['H', 'S']\n"
     ]
    }
   ],
   "source": [
    "stuNames = []\n",
    "n = int(input(\"Enter the number of students: \"))\n",
    "for i in range(n):\n",
    "    name = input(\"Enter name of Student: \")\n",
    "    stuNames.append(name)\n",
    "print([name for name in stuNames])"
   ]
  },
  {
   "cell_type": "code",
   "execution_count": 16,
   "id": "cbc42a3d-c6eb-422d-a634-d75d090bb6be",
   "metadata": {},
   "outputs": [
    {
     "name": "stdout",
     "output_type": "stream",
     "text": [
      "[1, 2, 3, 5, 6, 7]\n"
     ]
    }
   ],
   "source": [
    "# Remove duplicate values from a list (method 1)\n",
    "L = [1, 2, 3, 3, 2, 1, 5, 6, 6, 7]\n",
    "L = list(set(L))\n",
    "print(L)"
   ]
  },
  {
   "cell_type": "code",
   "execution_count": 17,
   "id": "b030ba58-4569-474f-9848-00afd5345280",
   "metadata": {},
   "outputs": [
    {
     "name": "stdout",
     "output_type": "stream",
     "text": [
      "[1, 2, 3, 5, 6, 7]\n"
     ]
    }
   ],
   "source": [
    "# Remove duplicates from a list (method 2)\n",
    "L = [1, 2, 3, 3, 2, 1, 5, 6, 6, 7]\n",
    "L2 = []\n",
    "\n",
    "for i in L:\n",
    "    if i not in L2:\n",
    "        L2.append(i)\n",
    "\n",
    "print(L2)"
   ]
  },
  {
   "cell_type": "code",
   "execution_count": null,
   "id": "0c6cfa2d-12f2-4d6e-9ea9-2234997fc66b",
   "metadata": {},
   "outputs": [],
   "source": []
  }
 ],
 "metadata": {
  "kernelspec": {
   "display_name": "Python 3 (ipykernel)",
   "language": "python",
   "name": "python3"
  },
  "language_info": {
   "codemirror_mode": {
    "name": "ipython",
    "version": 3
   },
   "file_extension": ".py",
   "mimetype": "text/x-python",
   "name": "python",
   "nbconvert_exporter": "python",
   "pygments_lexer": "ipython3",
   "version": "3.12.7"
  }
 },
 "nbformat": 4,
 "nbformat_minor": 5
}
